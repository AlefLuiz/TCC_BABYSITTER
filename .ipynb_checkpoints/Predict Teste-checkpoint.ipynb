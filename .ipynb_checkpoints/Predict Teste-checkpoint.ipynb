{
 "cells": [
  {
   "cell_type": "code",
   "execution_count": 1,
   "id": "074126db",
   "metadata": {},
   "outputs": [],
   "source": [
    "import numpy as np\n",
    "import os\n",
    "import librosa\n",
    "from IPython.display import Audio\n",
    "from keras.models import load_model\n",
    "import warnings\n",
    "import speech_recognition as sr\n",
    "warnings.filterwarnings('ignore')\n",
    "\n",
    "#EMOTIONS = ['angry', 'disgust', 'fear', 'happy', 'neutral', 'ps', 'sad']\n",
    "RUIDO_CRY = ['baby', 'ruido']\n",
    "MODEL_FINAL = load_model('models\\model_tratados.h5')"
   ]
  },
  {
   "cell_type": "code",
   "execution_count": 2,
   "id": "4d5ec7cb",
   "metadata": {},
   "outputs": [],
   "source": [
    "def extract_mfcc(filename):\n",
    "    y, sr = librosa.load(filename, duration=3, offset=0.5)\n",
    "    mfcc = np.mean(librosa.feature.mfcc(y=y, sr=sr, n_mfcc=40).T, axis=0)\n",
    "    return mfcc"
   ]
  },
  {
   "cell_type": "code",
   "execution_count": 3,
   "id": "e741ae1e",
   "metadata": {},
   "outputs": [],
   "source": [
    "def predict(filename, emotions):\n",
    "    audio_extract = [extract_mfcc(filename)]\n",
    "    audio_extract = np.array(audio_extract)\n",
    "    audio_extract = np.expand_dims(audio_extract, -1)\n",
    "    result_ia = MODEL_FINAL.predict(audio_extract)[0]\n",
    "    result_dict = {}\n",
    "    for index, emotion in enumerate(emotions):\n",
    "        result_dict[emotion] = result_ia[index]\n",
    "    return result_dict"
   ]
  },
  {
   "cell_type": "code",
   "execution_count": 5,
   "id": "113096fb",
   "metadata": {},
   "outputs": [],
   "source": [
    "def maior_probabilidade(predict_dict):\n",
    "    emocao_final = ''\n",
    "    probabilidade_final = 0.0\n",
    "    for emocao, probabilidade in predict_dict.items():\n",
    "        #print(emocao)\n",
    "        #print(probabilidade * 100)\n",
    "        if (probabilidade > probabilidade_final):\n",
    "            emocao_final = emocao\n",
    "            probabilidade_final = probabilidade\n",
    "    return {emocao_final : round(probabilidade_final * 100, 2)}"
   ]
  },
  {
   "cell_type": "code",
   "execution_count": 6,
   "id": "01c2b35a",
   "metadata": {
    "scrolled": true
   },
   "outputs": [
    {
     "name": "stdout",
     "output_type": "stream",
     "text": [
      "1/1 [==============================] - 0s 358ms/step\n",
      "{'baby': 99.63}\n"
     ]
    }
   ],
   "source": [
    "#test_filename = 'K:/Documentos/GitHub/TCC_Agora_VAI/data_audio/audio_bebe/1abb2260-a652-4ba7-bd98-7d463312730f-1430041727150-1.7-m-04-hu.wav'\n",
    "#test_filename = 'data_audio/audio_ruido/1-7974-B-49.wav'\n",
    "test_filename = 'cry (619).wav'\n",
    "#test_filename = '1-7057-A-12.wav'\n",
    "predict_dict = predict(test_filename, RUIDO_CRY)\n",
    "print(maior_probabilidade(predict_dict))"
   ]
  },
  {
   "cell_type": "markdown",
   "id": "f683f11b",
   "metadata": {},
   "source": [
    "## Funcao responsavel por ouvir e reconhecer a fala\n",
    "test_filename = 'teste.wav'\n",
    "def ouvir_microfone():\n",
    "    #Habilita o microfone para ouvir o usuario\n",
    "    microfone = sr.Recognizer()\n",
    "    with sr.Microphone() as source:\n",
    "        microfone.adjust_for_ambient_noise(source)\n",
    "        print(\"Diga alguma coisa: \")\n",
    "        audio = microfone.listen(source, phrase_time_limit=3)\n",
    "        f = open(test_filename, \"wb\")\n",
    "        f.write(audio.get_wav_data())\n",
    "        f.close()\n",
    "    return audio\n",
    "while True:\n",
    "    ouvir_microfone()\n",
    "    predict_dict = predict(test_filename, RUIDO_CRY)\n",
    "    print(maior_probabilidade(predict_dict))"
   ]
  },
  {
   "cell_type": "code",
   "execution_count": null,
   "id": "6b869fe1",
   "metadata": {},
   "outputs": [],
   "source": []
  },
  {
   "cell_type": "code",
   "execution_count": null,
   "id": "191e2bae",
   "metadata": {},
   "outputs": [],
   "source": []
  }
 ],
 "metadata": {
  "kernelspec": {
   "display_name": "Python 3 (ipykernel)",
   "language": "python",
   "name": "python3"
  },
  "language_info": {
   "codemirror_mode": {
    "name": "ipython",
    "version": 3
   },
   "file_extension": ".py",
   "mimetype": "text/x-python",
   "name": "python",
   "nbconvert_exporter": "python",
   "pygments_lexer": "ipython3",
   "version": "3.10.4"
  }
 },
 "nbformat": 4,
 "nbformat_minor": 5
}
